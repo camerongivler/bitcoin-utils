{
 "cells": [
  {
   "cell_type": "code",
   "execution_count": 1,
   "metadata": {
    "collapsed": true
   },
   "outputs": [],
   "source": [
    "#Import the necessary modules\n",
    "import json\n",
    "import requests\n",
    "\n",
    "#Import the necessary classes\n",
    "from exchangebase import ExchangeBase"
   ]
  },
  {
   "cell_type": "code",
   "execution_count": 46,
   "metadata": {},
   "outputs": [],
   "source": [
    "#Let's try gdax first\n",
    "class Gdax(ExchangeBase):\n",
    "    def request(self, url):\n",
    "        \"\"\"Return json data from user specified url extension on gdax\"\"\"\n",
    "        timeout = 5\n",
    "        base_url = \"https://www.gdax.com/trade/\"\n",
    "        response = requests.get(base_url + url,\n",
    "                               timeout=timeout,\n",
    "                               verify = True)\n",
    "        if response.status_code != 200:\n",
    "            print(f\"error: {base_url}{url}\")\n",
    "        return response\n",
    "        \n",
    "    def GetLastTradePrice(self, symbol):\n",
    "        \"\"\"Return the last trade price of user specified coin\"\"\"\n",
    "        pass\n",
    "        \n",
    "\n",
    "    def getName(self):\n",
    "        return \"gdax\""
   ]
  },
  {
   "cell_type": "code",
   "execution_count": 48,
   "metadata": {},
   "outputs": [
    {
     "data": {
      "text/plain": [
       "<Response [200]>"
      ]
     },
     "execution_count": 48,
     "metadata": {},
     "output_type": "execute_result"
    }
   ],
   "source": [
    "g = Gdax()\n",
    "g.request(\"BCH-USD\")"
   ]
  }
 ],
 "metadata": {
  "kernelspec": {
   "display_name": "Python 3",
   "language": "python",
   "name": "python3"
  },
  "language_info": {
   "codemirror_mode": {
    "name": "ipython",
    "version": 3
   },
   "file_extension": ".py",
   "mimetype": "text/x-python",
   "name": "python",
   "nbconvert_exporter": "python",
   "pygments_lexer": "ipython3",
   "version": "3.6.2"
  }
 },
 "nbformat": 4,
 "nbformat_minor": 2
}
