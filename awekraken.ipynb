{
 "cells": [
  {
   "cell_type": "code",
   "execution_count": 1,
   "metadata": {
    "collapsed": true
   },
   "outputs": [],
   "source": [
    "#Import the necessary modules\n",
    "import json\n",
    "import requests\n",
    "\n",
    "#Import the necessary classes\n",
    "from exchangebase import ExchangeBase"
   ]
  },
  {
   "cell_type": "code",
   "execution_count": 109,
   "metadata": {},
   "outputs": [],
   "source": [
    "#Kraken url does not change based on the coin\n",
    "class Kraken(ExchangeBase):\n",
    "    def request(self):\n",
    "        \"\"\"Return json data from kraken\"\"\"\n",
    "        timeout = 5\n",
    "        base_url = \"http://api.kraken.com/0/public/ticker\"\n",
    "        response = requests.get(base_url,\n",
    "                               timeout=timeout,\n",
    "                               verify = True)\n",
    "        if response.status_code != 200:\n",
    "            print(f\"error: {base_url}\")\n",
    "        return response\n",
    "    \n",
    "    def GetLastTradePrice(self, symbol):\n",
    "        \"\"\"Return the last trade price of user specified coin\"\"\"\n",
    "        pass\n",
    "        \n",
    "\n",
    "    def getName(self):\n",
    "        return \"kraken\""
   ]
  },
  {
   "cell_type": "code",
   "execution_count": 110,
   "metadata": {},
   "outputs": [
    {
     "name": "stdout",
     "output_type": "stream",
     "text": [
      "error: http://api.kraken.com/0/public/ticker\n"
     ]
    },
    {
     "data": {
      "text/plain": [
       "<Response [404]>"
      ]
     },
     "execution_count": 110,
     "metadata": {},
     "output_type": "execute_result"
    }
   ],
   "source": [
    "k = Kraken()\n",
    "k.request()"
   ]
  },
  {
   "cell_type": "code",
   "execution_count": null,
   "metadata": {
    "collapsed": true
   },
   "outputs": [],
   "source": []
  }
 ],
 "metadata": {
  "kernelspec": {
   "display_name": "Python 3",
   "language": "python",
   "name": "python3"
  },
  "language_info": {
   "codemirror_mode": {
    "name": "ipython",
    "version": 3
   },
   "file_extension": ".py",
   "mimetype": "text/x-python",
   "name": "python",
   "nbconvert_exporter": "python",
   "pygments_lexer": "ipython3",
   "version": "3.6.2"
  }
 },
 "nbformat": 4,
 "nbformat_minor": 2
}
